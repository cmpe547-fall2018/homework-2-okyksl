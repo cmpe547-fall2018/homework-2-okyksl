{
 "cells": [
  {
   "cell_type": "markdown",
   "metadata": {},
   "source": [
    "Name: Oğuz Kaan Yüksel\n",
    "\n",
    "I hereby declare that I observed the honour code of the university when preparing the homework."
   ]
  },
  {
   "cell_type": "markdown",
   "metadata": {},
   "source": [
    "## Pr?gr?mm?ng?H?m?w?rk\n",
    "\n",
    "In this exercise we model a string of text using a Markov(1) model. For simplicity we only consider letters 'a-z'. Capital letters 'A-Z' are mapped to the corresponding ones. All remaining letters, symbols, numbers, including spaces, are denoted by '.'.\n",
    "\n",
    "\n",
    "We have a probability table $T$ where $T_{i,j} = p(x_t = j | x_{t-1} = i)$  transition model of letters in English text for $t=1,2 \\dots N$. Assume that the initial letter in a string is always a space denoted as $x_0 = \\text{'.'}$. Such a model where the probability table is always the same is sometimes called a stationary model.\n",
    "\n",
    "1. For a given $N$, write a program to sample random strings with letters $x_1, x_2, \\dots, x_N$ from $p(x_{1:N}|x_0)$\n",
    "1. Now suppose you are given strings with missing letters, where each missing letter is denoted by a question mark (or underscore, as below). Implement a method, that samples missing letters conditioned on observed ones, i.e., samples from $p(x_{-\\alpha}|x_{\\alpha})$ where $\\alpha$ denotes indices of observed letters. For example, if the input is 't??.', we have $N=4$ and\n",
    "$x_1 = \\text{'t'}$ and $x_4 = \\text{'.'}$, $\\alpha=\\{1,4\\}$ and $-\\alpha=\\{2,3\\}$. Your program may possibly generate the strings 'the.', 'twi.', 'tee.', etc. Hint: make sure to make use all data given and sample from the correct distribution. Implement the method and print the results for the test strings below. \n",
    "1. Describe a method for filling in the gaps by estimating the most likely letter for each position. Hint: you need to compute\n",
    "$$\n",
    "x_{-\\alpha}^* = \\arg\\max_{x_{-\\alpha}} p(x_{-\\alpha}|x_{\\alpha})\n",
    "$$\n",
    "Implement the method and print the results for the following test strings along with the log-probability  $\\log p(x_{-\\alpha}^*,x_{\\alpha})$.\n",
    "1. Discuss how you can improve the model to get better estimations."
   ]
  },
  {
   "cell_type": "code",
   "execution_count": 198,
   "metadata": {},
   "outputs": [],
   "source": [
    "test_strings = ['th__br__n.f_x.', '_u_st__n_.to_be._nsw_r__','i__at_._a_h_n_._e_r_i_g','q___t.___z._____t.__.___.__.']"
   ]
  },
  {
   "cell_type": "markdown",
   "metadata": {},
   "source": [
    "Hint: The code below loads a table of transition probabilities for English text."
   ]
  },
  {
   "cell_type": "code",
   "execution_count": 199,
   "metadata": {
    "scrolled": true
   },
   "outputs": [
    {
     "name": "stdout",
     "output_type": "stream",
     "text": [
      "Example\n"
     ]
    },
    {
     "data": {
      "text/latex": [
       "$p(x_t = \\text{'u'} | x_{t-1} = \\text{'q'})$"
      ],
      "text/plain": [
       "<IPython.core.display.Latex object>"
      ]
     },
     "metadata": {},
     "output_type": "display_data"
    },
    {
     "name": "stdout",
     "output_type": "stream",
     "text": [
      "0.9949749\n"
     ]
    },
    {
     "data": {
      "text/latex": [
       "$p(x_t | x_{t-1} = \\text{'a'})$"
      ],
      "text/plain": [
       "<IPython.core.display.Latex object>"
      ]
     },
     "metadata": {},
     "output_type": "display_data"
    },
    {
     "name": "stdout",
     "output_type": "stream",
     "text": [
      "a 0.0002835\n",
      "b 0.0228302\n",
      "c 0.0369041\n",
      "d 0.0426290\n",
      "e 0.0012216\n",
      "f 0.0075739\n",
      "g 0.0171385\n",
      "h 0.0014659\n",
      "i 0.0372661\n",
      "j 0.0002353\n",
      "k 0.0110124\n",
      "l 0.0778259\n",
      "m 0.0260757\n",
      "n 0.2145354\n",
      "o 0.0005459\n",
      "p 0.0195213\n",
      "q 0.0001749\n",
      "r 0.1104770\n",
      "s 0.0934290\n",
      "t 0.1317960\n",
      "u 0.0098029\n",
      "v 0.0306574\n",
      "w 0.0088799\n",
      "x 0.0009562\n",
      "y 0.0233701\n",
      "z 0.0018701\n",
      ". 0.0715219\n"
     ]
    }
   ],
   "source": [
    "import csv\n",
    "from IPython.display import display, Latex\n",
    "\n",
    "alphabet = [chr(i+ord('a')) for i in range(26)]\n",
    "alphabet.append('.')\n",
    "letter2idx = {c:i for i,c in enumerate(alphabet)}\n",
    "\n",
    "T = []\n",
    "with open('transitions.csv') as csvfile:\n",
    "    reader = csv.reader(csvfile, delimiter=',')\n",
    "    for row in reader:\n",
    "        T.append(row)\n",
    "\n",
    "print('Example')\n",
    "## p(x_t = 'u' | x_{t-1} = 'q')\n",
    "display(Latex(r\"$p(x_t = \\text{'u'} | x_{t-1} = \\text{'q'})$\"))\n",
    "print(T[letter2idx['q']][letter2idx['u']])\n",
    "display(Latex(r\"$p(x_t | x_{t-1} = \\text{'a'})$\"))\n",
    "for c,p in zip(alphabet,T[letter2idx['a']]):\n",
    "    print(c,p)"
   ]
  },
  {
   "cell_type": "markdown",
   "metadata": {},
   "source": [
    "Let's make some observations based on the Markov(1) model. \n",
    "1. Note that $T$ table is independent of $t = 1,2,3,...N$.\n",
    "2. Note the conditional independence i.e $x_n \\amalg x_m | x_k$ where $n < k < m$. \n",
    "\n",
    "Therefore we can make the following calculations:\n",
    "1. Conditional table $p(x_{t+k} = j | x_t = i)$ is not dependent on $t$ and this table represented as $table[i][j][k]$.\n",
    "2. Probability of a string $x_1x_2..x_N$ is given by: $p(x_1, x_2, .., x_N) = p(x_1 | x_0)p(x_2 | x_1) .. p(x_N | x_{N-1})$\n",
    "3. By Bayes theorem and conditional independence on Markov(1), we have: $p(x_k | x_n, x_m) = p(x_m | x_k) * p(x_k | x_n) / p(x_m | x_n)$ where $m < k < n$."
   ]
  },
  {
   "cell_type": "code",
   "execution_count": 204,
   "metadata": {},
   "outputs": [],
   "source": [
    "import random\n",
    "\n",
    "N = 50 # maximum string length supported (used in dynamic calculations)\n",
    "\n",
    "table = [[[-1 for k in range(N)] for j in range(len(alphabet))] for i in range(len(alphabet))]\n",
    "def cond(a, b, k=1): # calculate b | a where dist(a, b) = k i.e b = x_k+n, a = x_n\n",
    "    if table[a][b][k] != -1:\n",
    "        return table[a][b][k]\n",
    "    if k == 1:\n",
    "        table[a][b][k] = float(T[a][b])\n",
    "    else:\n",
    "        table[a][b][k] = 0\n",
    "        for c in alphabet:\n",
    "            table[a][b][k] = table[a][b][k] + cond(letter2idx[c], b, k-1) * cond(a, letter2idx[c], 1)\n",
    "    return table[a][b][k]\n",
    "\n",
    "def prob(s): # calculate probability of string\n",
    "    p = cond(letter2idx['.'], letter2idx[s[0]]) # prob of first element\n",
    "    for i in range(len(s)-1):\n",
    "        p = p * cond(letter2idx[s[i]], letter2idx[s[i+1]])\n",
    "    return p\n",
    "\n",
    "def cond2(a, b, c, k, l): # calculate b | a, c where dist(a, b) = k and dist(b, c) = l i.e c = x_k+l+n, b = x_k+n, a = x_n\n",
    "    return cond(b, c, l) * cond(a, b, k) / cond(a, c, k+l)"
   ]
  },
  {
   "cell_type": "markdown",
   "metadata": {},
   "source": [
    "### 1. Sample random string with given length N."
   ]
  },
  {
   "cell_type": "code",
   "execution_count": 206,
   "metadata": {},
   "outputs": [
    {
     "name": "stdout",
     "output_type": "stream",
     "text": [
      "iot.l\n",
      "9.90063340453552e-07\n"
     ]
    }
   ],
   "source": [
    "def gen(length):\n",
    "    s = '.' # initial string\n",
    "    for i in range(length):\n",
    "        p = random.uniform(0,1) # take random value in (0,1)\n",
    "        for c in alphabet:\n",
    "            p = p - cond(letter2idx[s[-1]], letter2idx[c]) # if p falls in this letter in CDF\n",
    "            if p <= 0:\n",
    "                s += c # append the char\n",
    "                break\n",
    "    return s[1:]\n",
    "\n",
    "s = gen(5)\n",
    "print(s)\n",
    "print(prob(s))"
   ]
  },
  {
   "cell_type": "markdown",
   "metadata": {},
   "source": [
    "### 2. Fill missing letters in given string."
   ]
  },
  {
   "cell_type": "code",
   "execution_count": 217,
   "metadata": {},
   "outputs": [
    {
     "name": "stdout",
     "output_type": "stream",
     "text": [
      "0\n",
      ".th__br__n.f_x.\n",
      "1\n",
      ".th__br__n.f_x.\n",
      "2\n",
      ".th__br__n.f_x.\n",
      "3\n",
      ".th__br__n.f_x.\n",
      "4\n",
      ".the_br__n.f_x.\n",
      "5\n",
      ".the.br__n.f_x.\n",
      "6\n",
      ".the.br__n.f_x.\n",
      "7\n",
      ".the.br__n.f_x.\n",
      "8\n",
      ".the.br._n.f_x.\n",
      "9\n",
      ".the.br.an.f_x.\n",
      "10\n",
      ".the.br.an.f_x.\n",
      "11\n",
      ".the.br.an.f_x.\n",
      "12\n",
      ".the.br.an.f_x.\n",
      "13\n",
      ".the.br.an.fex.\n",
      "14\n",
      ".the.br.an.fex.\n",
      "the.br.an.fex.\n",
      "0\n",
      "._u_st__n_.to_be._nsw_r__\n",
      "1\n",
      "._u_st__n_.to_be._nsw_r__\n",
      "2\n",
      ".au_st__n_.to_be._nsw_r__\n",
      "3\n",
      ".au_st__n_.to_be._nsw_r__\n",
      "4\n",
      ".aurst__n_.to_be._nsw_r__\n",
      "5\n",
      ".aurst__n_.to_be._nsw_r__\n",
      "6\n",
      ".aurst__n_.to_be._nsw_r__\n",
      "7\n",
      ".aurst._n_.to_be._nsw_r__\n",
      "8\n",
      ".aurst.in_.to_be._nsw_r__\n",
      "9\n",
      ".aurst.in_.to_be._nsw_r__\n",
      "10\n",
      ".aurst.in..to_be._nsw_r__\n",
      "11\n",
      ".aurst.in..to_be._nsw_r__\n",
      "12\n",
      ".aurst.in..to_be._nsw_r__\n",
      "13\n",
      ".aurst.in..to_be._nsw_r__\n",
      "14\n",
      ".aurst.in..to.be._nsw_r__\n",
      "15\n",
      ".aurst.in..to.be._nsw_r__\n",
      "16\n",
      ".aurst.in..to.be._nsw_r__\n",
      "17\n",
      ".aurst.in..to.be._nsw_r__\n",
      "18\n",
      ".aurst.in..to.be.answ_r__\n",
      "19\n",
      ".aurst.in..to.be.answ_r__\n",
      "20\n",
      ".aurst.in..to.be.answ_r__\n",
      "21\n",
      ".aurst.in..to.be.answ_r__\n",
      "22\n",
      ".aurst.in..to.be.answor__\n",
      "23\n",
      ".aurst.in..to.be.answor__\n",
      "24\n",
      ".aurst.in..to.be.answort_\n",
      "aurst.in..to.be.answorth\n",
      "0\n",
      ".i__at_._a_h_n_._e_r_i_g\n",
      "1\n",
      ".i__at_._a_h_n_._e_r_i_g\n",
      "2\n",
      ".i__at_._a_h_n_._e_r_i_g\n",
      "3\n",
      ".is_at_._a_h_n_._e_r_i_g\n",
      "4\n",
      ".ispat_._a_h_n_._e_r_i_g\n",
      "5\n",
      ".ispat_._a_h_n_._e_r_i_g\n",
      "6\n",
      ".ispat_._a_h_n_._e_r_i_g\n",
      "7\n",
      ".ispath._a_h_n_._e_r_i_g\n",
      "8\n",
      ".ispath._a_h_n_._e_r_i_g\n",
      "9\n",
      ".ispath.ia_h_n_._e_r_i_g\n",
      "10\n",
      ".ispath.ia_h_n_._e_r_i_g\n",
      "11\n",
      ".ispath.iagh_n_._e_r_i_g\n",
      "12\n",
      ".ispath.iagh_n_._e_r_i_g\n",
      "13\n",
      ".ispath.iaghan_._e_r_i_g\n",
      "14\n",
      ".ispath.iaghan_._e_r_i_g\n",
      "15\n",
      ".ispath.iaghans._e_r_i_g\n",
      "16\n",
      ".ispath.iaghans._e_r_i_g\n",
      "17\n",
      ".ispath.iaghans.be_r_i_g\n",
      "18\n",
      ".ispath.iaghans.be_r_i_g\n",
      "19\n",
      ".ispath.iaghans.bedr_i_g\n",
      "20\n",
      ".ispath.iaghans.bedr_i_g\n",
      "21\n",
      ".ispath.iaghans.bedrti_g\n",
      "22\n",
      ".ispath.iaghans.bedrti_g\n",
      "23\n",
      ".ispath.iaghans.bedrting\n",
      "ispath.iaghans.bedrting\n",
      "0\n",
      ".q___t.___z._____t.__.___.__.\n",
      "1\n",
      ".q___t.___z._____t.__.___.__.\n",
      "2\n",
      ".q___t.___z._____t.__.___.__.\n",
      "3\n",
      ".qu__t.___z._____t.__.___.__.\n",
      "4\n",
      ".qur_t.___z._____t.__.___.__.\n",
      "5\n",
      ".qurat.___z._____t.__.___.__.\n",
      "6\n",
      ".qurat.___z._____t.__.___.__.\n",
      "7\n",
      ".qurat.___z._____t.__.___.__.\n",
      "8\n",
      ".qurat.s__z._____t.__.___.__.\n",
      "9\n",
      ".qurat.si_z._____t.__.___.__.\n",
      "10\n",
      ".qurat.sirz._____t.__.___.__.\n",
      "11\n",
      ".qurat.sirz._____t.__.___.__.\n",
      "12\n",
      ".qurat.sirz._____t.__.___.__.\n",
      "13\n",
      ".qurat.sirz..____t.__.___.__.\n",
      "14\n",
      ".qurat.sirz..o___t.__.___.__.\n",
      "15\n",
      ".qurat.sirz..od__t.__.___.__.\n",
      "16\n",
      ".qurat.sirz..od._t.__.___.__.\n",
      "17\n",
      ".qurat.sirz..od.it.__.___.__.\n",
      "18\n",
      ".qurat.sirz..od.it.__.___.__.\n",
      "19\n",
      ".qurat.sirz..od.it.__.___.__.\n",
      "20\n",
      ".qurat.sirz..od.it.p_.___.__.\n",
      "21\n",
      ".qurat.sirz..od.it.pe.___.__.\n",
      "22\n",
      ".qurat.sirz..od.it.pe.___.__.\n",
      "23\n",
      ".qurat.sirz..od.it.pe.b__.__.\n",
      "24\n",
      ".qurat.sirz..od.it.pe.bo_.__.\n",
      "25\n",
      ".qurat.sirz..od.it.pe.bor.__.\n",
      "26\n",
      ".qurat.sirz..od.it.pe.bor.__.\n",
      "27\n",
      ".qurat.sirz..od.it.pe.bor.s_.\n",
      "28\n",
      ".qurat.sirz..od.it.pe.bor.sh.\n",
      "qurat.sirz..od.it.pe.bor.sh.\n"
     ]
    }
   ],
   "source": [
    "def fill(s):\n",
    "    s = '.' + s # append initial x_0\n",
    "    left = 0 # last known left char\n",
    "    right = 0 # last known right char\n",
    "\n",
    "    for i in range(len(s)): # start filling\n",
    "        print(i)\n",
    "        print(s)\n",
    "        if s[i] == '?' or s[i] == '_': # if missing char\n",
    "            if right < i: # if right char is outdated\n",
    "                right = i + 1\n",
    "                while right < len(s): # updated right char\n",
    "                    if s[right] != '?' and s[right] != '_':\n",
    "                        break # located a known char\n",
    "                    right = right + 1\n",
    "\n",
    "            p = random.uniform(0,1) # take random value in (0,1)\n",
    "            if right == len(s): # if right char is out of bounds, condition only on left\n",
    "                for c in alphabet:\n",
    "                    p = p - cond(letter2idx[s[left]], letter2idx[c], i-left)\n",
    "                    if p <= 0:\n",
    "                        s = s[:i] + c + s[i+1:] # assign new char\n",
    "                        break\n",
    "            else: # double conditional\n",
    "                for c in alphabet:\n",
    "                    p = p - cond2(letter2idx[s[left]], letter2idx[c], letter2idx[s[right]], i-left, right-i)\n",
    "                    if p <= 0:\n",
    "                        s = s[:i] + c + s[i+1:] # assign new char\n",
    "                        break\n",
    "\n",
    "            left = i # update left char\n",
    "        else:\n",
    "            left = i # update left char\n",
    "    return s[1:]\n",
    "\n",
    "for s in test_strings:\n",
    "    print(fill(s))"
   ]
  },
  {
   "cell_type": "markdown",
   "metadata": {},
   "source": [
    "### 3. Most likely letter for each position. (BROKEN)"
   ]
  },
  {
   "cell_type": "code",
   "execution_count": 203,
   "metadata": {},
   "outputs": [
    {
     "name": "stdout",
     "output_type": "stream",
     "text": [
      "('thaabraan.fax.', 1.9786077107529037e-06)\n",
      "('auastaana.toabe.answaraa', 3.5823912517589296e-13)\n",
      "('iaaata.aaahana.aearaiag', 4.726260775675123e-26)\n",
      "('qraat.aaaz.aaaaat.aa.aaa.aa.', 4.077396454147246e-24)\n"
     ]
    }
   ],
   "source": [
    "def fill_map(s):\n",
    "    s = '.' + s # append initial x_0\n",
    "    left = 0 # last known left char\n",
    "    right = 0 # last known right char\n",
    "\n",
    "    pp = 1\n",
    "    for i in range(len(s)): # start filling\n",
    "        if s[i] == '?' or s[i] == '_': # if missing char\n",
    "            if right < i: # if right char is outdated\n",
    "                right = i + 1\n",
    "                while right < len(s): # updated right char\n",
    "                    if s[right] != '?' and s[right] != '_':\n",
    "                        break # located a known char\n",
    "                    right = right + 1\n",
    "\n",
    "            p = 0\n",
    "            ch = '.'\n",
    "            if right == len(s): # if right char is out of bounds, condition only on left\n",
    "                for c in alphabet:\n",
    "                    if p < cond(letter2idx[s[left]], letter2idx[c], i-left): # determine max\n",
    "                        p = cond(letter2idx[s[left]], letter2idx[c], i-left)\n",
    "                        ch = c # set map char\n",
    "                        break\n",
    "            else: # double conditional\n",
    "                for c in alphabet:\n",
    "                    if p < cond2(letter2idx[s[left]], letter2idx[c], letter2idx[s[right]], i-left, right-i):\n",
    "                        p = cond2(letter2idx[s[left]], letter2idx[c], letter2idx[s[right]], i-left, right-i)\n",
    "                        ch = c # set map char\n",
    "                        break\n",
    "\n",
    "            pp = pp * p\n",
    "            s = s[:i] + ch + s[i+1:] # assign new char\n",
    "        else:\n",
    "            left = i # update left char (only updated in knowns)\n",
    "    return (s[1:], pp)\n",
    "\n",
    "for s in test_strings:\n",
    "    print(fill_map(s))"
   ]
  },
  {
   "cell_type": "markdown",
   "metadata": {},
   "source": [
    "### 4. Possible Model Improvements\n",
    "\n",
    "- One can impose further relationship between characters with distance 2,3,4 and so on on the Markov model(1) to capture the language structure more tightly.\n",
    "- One can add hidden states between characters and learn these hidden states from the observed states to detect further semantics such as role of characters etc.\n",
    "- One can also add hidden states for groups of characters to further understand semantic of patterns of consequent characters."
   ]
  }
 ],
 "metadata": {
  "kernelspec": {
   "display_name": "Python 3",
   "language": "python",
   "name": "python3"
  },
  "language_info": {
   "codemirror_mode": {
    "name": "ipython",
    "version": 3
   },
   "file_extension": ".py",
   "mimetype": "text/x-python",
   "name": "python",
   "nbconvert_exporter": "python",
   "pygments_lexer": "ipython3",
   "version": "3.6.1"
  }
 },
 "nbformat": 4,
 "nbformat_minor": 1
}
